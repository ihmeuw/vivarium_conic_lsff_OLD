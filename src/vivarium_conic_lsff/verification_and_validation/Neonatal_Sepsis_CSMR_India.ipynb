{
 "cells": [
  {
   "cell_type": "code",
   "execution_count": 1,
   "metadata": {},
   "outputs": [],
   "source": [
    "import pandas as pd\n",
    "import matplotlib.pyplot as plt"
   ]
  },
  {
   "cell_type": "code",
   "execution_count": 2,
   "metadata": {},
   "outputs": [],
   "source": [
    "from gbd_mapping import causes\n",
    "from vivarium_inputs import get_measure"
   ]
  },
  {
   "cell_type": "code",
   "execution_count": 3,
   "metadata": {},
   "outputs": [],
   "source": [
    "dfout = pd.read_hdf(r'../2019_12_16_15_24_27/output.hdf')"
   ]
  },
  {
   "cell_type": "code",
   "execution_count": 4,
   "metadata": {},
   "outputs": [],
   "source": [
    "#print(dfout.head())\n",
    "#print(dfout.shape)"
   ]
  },
  {
   "cell_type": "code",
   "execution_count": 6,
   "metadata": {},
   "outputs": [],
   "source": [
    "#dfout.columns"
   ]
  },
  {
   "cell_type": "code",
   "execution_count": 4,
   "metadata": {},
   "outputs": [],
   "source": [
    "dfout.reset_index(level='random_seed',inplace=True,drop=True)\n",
    "#dfout.head()"
   ]
  },
  {
   "cell_type": "code",
   "execution_count": 5,
   "metadata": {},
   "outputs": [],
   "source": [
    "dfout.reset_index(level='input_draw_number',inplace=True)\n",
    "#dfout.head()"
   ]
  },
  {
   "cell_type": "code",
   "execution_count": 6,
   "metadata": {},
   "outputs": [
    {
     "name": "stdout",
     "output_type": "stream",
     "text": [
      "(100, 995)\n"
     ]
    }
   ],
   "source": [
    "df_grpby_draws = dfout.groupby('input_draw_number',as_index=False).sum()\n",
    "#print(df_grpby_draws.head())\n",
    "print(df_grpby_draws.shape)"
   ]
  },
  {
   "cell_type": "code",
   "execution_count": 89,
   "metadata": {},
   "outputs": [],
   "source": [
    "deaths_sepsis = df_grpby_draws.filter(regex='input_draw_number|death_due_to_neonatal_sepsis')\n",
    "deaths_sepsis.set_index('input_draw_number', inplace=True)\n",
    "#deaths_sepsis.head()"
   ]
  },
  {
   "cell_type": "code",
   "execution_count": 90,
   "metadata": {},
   "outputs": [],
   "source": [
    "person_time = df_grpby_draws.filter(regex='input_draw_number|person_time')\n",
    "person_time.set_index('input_draw_number',inplace=True)\n",
    "#person_time.head()"
   ]
  },
  {
   "cell_type": "code",
   "execution_count": 91,
   "metadata": {
    "scrolled": true
   },
   "outputs": [],
   "source": [
    "csmr_sepsis_columns = [i.replace('death_due_to','csmr') for i in deaths_sepsis.columns]\n",
    "#csmr_sepsis_columns"
   ]
  },
  {
   "cell_type": "code",
   "execution_count": 92,
   "metadata": {},
   "outputs": [],
   "source": [
    "person_time.columns = deaths_sepsis.columns\n",
    "#person_time.head()"
   ]
  },
  {
   "cell_type": "code",
   "execution_count": 93,
   "metadata": {},
   "outputs": [],
   "source": [
    "csmr_sepsis = deaths_sepsis.div(person_time)\n",
    "csmr_sepsis.columns = csmr_sepsis_columns\n",
    "csmr_sepsis = csmr_sepsis.fillna(0)"
   ]
  },
  {
   "cell_type": "code",
   "execution_count": 12,
   "metadata": {},
   "outputs": [],
   "source": [
    "#csmr_measles.head()"
   ]
  },
  {
   "cell_type": "code",
   "execution_count": 94,
   "metadata": {},
   "outputs": [],
   "source": [
    "csmr_mean = csmr_sepsis.mean()\n",
    "csmr_mean= pd.DataFrame(csmr_mean, columns = ['csmr'])\n",
    "csmr_mean.reset_index(inplace=True)\n",
    "#csmr_mean"
   ]
  },
  {
   "cell_type": "code",
   "execution_count": 95,
   "metadata": {},
   "outputs": [],
   "source": [
    "def extract_sex(x):\n",
    "    sex = x.split('_')[8]\n",
    "    return sex    "
   ]
  },
  {
   "cell_type": "code",
   "execution_count": 96,
   "metadata": {},
   "outputs": [],
   "source": [
    "csmr_mean['sex'] = csmr_mean['index'].apply(extract_sex)\n"
   ]
  },
  {
   "cell_type": "code",
   "execution_count": 97,
   "metadata": {},
   "outputs": [],
   "source": [
    "def extract_age(x):\n",
    "    age = x.split('age_group_')\n",
    "    age = ' '.join(age[1].split('_'))\n",
    "    if age == 'early neonatal':\n",
    "        age = '0 to 7 days'\n",
    "    elif age == 'late neonatal':\n",
    "        age = '7 to 28 days'\n",
    "    elif age == 'post neonatal':\n",
    "        age = '28 days to 1 year'\n",
    "    #print(age)\n",
    "    return age"
   ]
  },
  {
   "cell_type": "code",
   "execution_count": 98,
   "metadata": {},
   "outputs": [],
   "source": [
    "csmr_mean['age_group'] = csmr_mean['index'].apply(extract_age)\n",
    "age_groups = ['0 to 7 days','7 to 28 days','28 days to 1 year', '1 to 4', '5 to 9']\n",
    "csmr_mean = csmr_mean[csmr_mean.age_group.isin(age_groups)]\n",
    "#csmr_mean"
   ]
  },
  {
   "cell_type": "code",
   "execution_count": 99,
   "metadata": {},
   "outputs": [],
   "source": [
    "csmr_sepsis_sim = csmr_mean.loc[:,'csmr':'age_group']\n",
    "csmr_sepsis_sim['sex'] = csmr_sepsis_sim['sex'] + ' - Sim'\n",
    "#csmr_sepsis_sim"
   ]
  },
  {
   "cell_type": "code",
   "execution_count": 100,
   "metadata": {},
   "outputs": [],
   "source": [
    "plt.rcParams[\"figure.figsize\"] = (5,5)"
   ]
  },
  {
   "cell_type": "code",
   "execution_count": 101,
   "metadata": {},
   "outputs": [
    {
     "data": {
      "text/plain": [
       "<matplotlib.legend.Legend at 0x2b9d0496c668>"
      ]
     },
     "execution_count": 101,
     "metadata": {},
     "output_type": "execute_result"
    },
    {
     "data": {
      "image/png": "[encoded data removed]",
      "text/plain": [
       "<Figure size 360x360 with 1 Axes>"
      ]
     },
     "metadata": {
      "needs_background": "light"
     },
     "output_type": "display_data"
    }
   ],
   "source": [
    "fig, ax = plt.subplots()\n",
    "csmr_mean.groupby('sex').plot(x='age_group',y='csmr',marker = 'P',linestyle='',ax=ax)\n",
    "plt.ylabel('Average csmr across all draws')\n",
    "plt.title(\"Simulation output:CSMR VS Age group\")\n",
    "plt.xticks(range(5),csmr_mean['age_group'].unique(),rotation=45)\n",
    "plt.legend([v[0] for v in csmr_mean.groupby('sex')['sex']])"
   ]
  },
  {
   "cell_type": "code",
   "execution_count": 36,
   "metadata": {},
   "outputs": [
    {
     "name": "stderr",
     "output_type": "stream",
     "text": [
      "/share/code/kiranklc/miniconda/envs/vivarium/lib/python3.6/site-packages/vivarium_inputs/validation/raw.py:1405: UserWarning: Cause neonatal_sepsis_and_other_neonatal_infections deaths data may violate the following restrictions: yll age restriction .\n",
      "  warnings.warn(f'{entity.kind.capitalize()} {entity.name} {measure} data may violate the '\n",
      "/share/code/kiranklc/miniconda/envs/vivarium/lib/python3.6/site-packages/vivarium_inputs/validation/raw.py:1858: UserWarning: Data contains additional age groups beyond those specified by restriction range.\n",
      "  warnings.warn('Data contains additional age groups beyond those specified by restriction range.')\n",
      "/share/code/kiranklc/miniconda/envs/vivarium/lib/python3.6/site-packages/vivarium_inputs/validation/raw.py:1960: UserWarning: Data was only expected to contain values for age groups between ids 2 and 4 but also included values for age groups {5}.\n",
      "  warnings.warn(f'Data was only expected to contain values for age groups between ids '\n"
     ]
    }
   ],
   "source": [
    "csmr_sepsis_ind_act = get_measure(causes.neonatal_sepsis_and_other_neonatal_infections,'cause_specific_mortality_rate','India')"
   ]
  },
  {
   "cell_type": "code",
   "execution_count": 37,
   "metadata": {},
   "outputs": [],
   "source": [
    "csmr_sepsis_ind_act.reset_index(inplace=True)\n",
    "#csmr_sepsis_ind_act.head()"
   ]
  },
  {
   "cell_type": "code",
   "execution_count": 38,
   "metadata": {},
   "outputs": [],
   "source": [
    "csmr_sepsis_2011_2015 = csmr_sepsis_ind_act.loc[csmr_sepsis_ind_act['year'].apply(lambda x: x.left in [2010,2011,2012,2013,2014,2015]),:]\n",
    "#csmr_sepsis_2011_2015"
   ]
  },
  {
   "cell_type": "code",
   "execution_count": 39,
   "metadata": {
    "scrolled": false
   },
   "outputs": [],
   "source": [
    "csmr_sepsis_agg_years = csmr_sepsis_2011_2015.groupby(['sex','age'],as_index=False).mean()\n",
    "#csmr_sepsis_agg_years"
   ]
  },
  {
   "cell_type": "code",
   "execution_count": 40,
   "metadata": {},
   "outputs": [],
   "source": [
    "csmr_sepsis_agg_years['mean_draws'] = csmr_sepsis_agg_years.loc[:,'draw_0':'draw_999'].mean(axis=1)\n",
    "#csmr_sepsis_agg_years[['sex','age','mean_draws']]"
   ]
  },
  {
   "cell_type": "code",
   "execution_count": 41,
   "metadata": {},
   "outputs": [],
   "source": [
    "def convert_age_group(x):\n",
    "    if x.right < 1:\n",
    "        age_group = str(int(round(x.left*365)))+' to '+str(int(round((x.right)*365)))+' days'\n",
    "    elif x.right == 1:\n",
    "        age_group = str(int(round(x.left*365)))+' days to '+str(int(x.right))+' year'\n",
    "    elif x.right == 125:\n",
    "        age_group = str(int(round(x.left)))+ ' plus'\n",
    "    else:\n",
    "        age_group = str(int(x.left))+' to '+str(int(x.right-1))\n",
    "    #print(age_group)\n",
    "    return age_group"
   ]
  },
  {
   "cell_type": "code",
   "execution_count": 45,
   "metadata": {},
   "outputs": [],
   "source": [
    "csmr_sepsis_agg_years['age_group'] = csmr_sepsis_agg_years['age'].apply(convert_age_group)\n",
    "csmr_sepsis_agg_years = csmr_sepsis_agg_years[csmr_sepsis_agg_years.age_group.isin(age_groups)]\n",
    "csmr_sepsis_gbd = csmr_sepsis_agg_years.loc[:,['sex','mean_draws','age_group']]\n",
    "csmr_sepsis_gbd['sex'] = csmr_sepsis_gbd['sex'].str.lower()"
   ]
  },
  {
   "cell_type": "code",
   "execution_count": 102,
   "metadata": {},
   "outputs": [
    {
     "data": {
      "text/plain": [
       "<matplotlib.legend.Legend at 0x2b9d049e4b70>"
      ]
     },
     "execution_count": 102,
     "metadata": {},
     "output_type": "execute_result"
    },
    {
     "data": {
      "image/png": "[encoded data removed]",
      "text/plain": [
       "<Figure size 360x360 with 1 Axes>"
      ]
     },
     "metadata": {
      "needs_background": "light"
     },
     "output_type": "display_data"
    }
   ],
   "source": [
    "fig, ax = plt.subplots()\n",
    "csmr_sepsis_agg_years.groupby('sex').plot(x='age_group',y='mean_draws',marker='o',linestyle='',ax=ax)\n",
    "plt.ylabel('Average csmr across years and draws')\n",
    "plt.title(\"GBD Data:CSMR VS Age group\")\n",
    "plt.xticks(range(5),csmr_sepsis_agg_years['age_group'].unique(), rotation=45)\n",
    "plt.legend([v[0] for v in csmr_sepsis_agg_years.groupby('sex')['sex']])"
   ]
  },
  {
   "cell_type": "code",
   "execution_count": 105,
   "metadata": {},
   "outputs": [],
   "source": [
    "csmr_sepsis_gbd.rename(columns = {'mean_draws':'csmr'},inplace=True)\n",
    "#csmr_sepsis_gbd"
   ]
  },
  {
   "cell_type": "code",
   "execution_count": 106,
   "metadata": {},
   "outputs": [],
   "source": [
    "csmr_sepsis_gbd['sex'] = csmr_sepsis_gbd['sex'] +' - GBD'\n",
    "#csmr_sepsis_gbd"
   ]
  },
  {
   "cell_type": "code",
   "execution_count": 107,
   "metadata": {},
   "outputs": [],
   "source": [
    "csmr_sepsis_ind = pd.concat([csmr_sepsis_gbd,csmr_sepsis_sim], sort=False)\n",
    "#csmr_sepsis_ind"
   ]
  },
  {
   "cell_type": "code",
   "execution_count": 108,
   "metadata": {
    "scrolled": false
   },
   "outputs": [
    {
     "data": {
      "text/plain": [
       "<matplotlib.legend.Legend at 0x2b9d04acfbe0>"
      ]
     },
     "execution_count": 108,
     "metadata": {},
     "output_type": "execute_result"
    },
    {
     "data": {
      "image/png": "[encoded data removed]",
      "text/plain": [
       "<Figure size 432x432 with 1 Axes>"
      ]
     },
     "metadata": {
      "needs_background": "light"
     },
     "output_type": "display_data"
    }
   ],
   "source": [
    "format_dict = {'female - GBD':\"rP\", 'male - GBD':\"bP\",'female - Sim':\"ro\",'male - Sim':\"bo\"}\n",
    "\n",
    "fig, ax = plt.subplots()\n",
    "for form in format_dict:\n",
    "    df = csmr_sepsis_ind[csmr_sepsis_ind.sex == form]\n",
    "    ax.plot(df.age_group,df.csmr, format_dict[form],linestyle='',ms=12,label=form, alpha=0.3)\n",
    "ax.set_title('CSMR validation for measles in India (2010 - 2015)')    \n",
    "ax.set_xlabel('Age group')\n",
    "ax.set_ylabel('Average CSMR')\n",
    "plt.xticks(rotation=45)\n",
    "ax.legend()"
   ]
  },
  {
   "cell_type": "code",
   "execution_count": 109,
   "metadata": {},
   "outputs": [],
   "source": [
    "def convert_age_num(x):\n",
    "    age_group = x.split()\n",
    "    if age_group[-1] == 'days':\n",
    "        age = (int(age_group[0])+int(age_group[2]))/(2*365)\n",
    "    elif age_group[-1] == 'year':\n",
    "        age = (int(age_group[0])/365 + int(age_group[3]))/2\n",
    "    elif age_group[-1] == 'plus':\n",
    "        age = (int(age_group[0])+125)/2\n",
    "    else:\n",
    "        age = (int(age_group[0]) + int(age_group[2]))/2\n",
    "    return round(age,2)"
   ]
  },
  {
   "cell_type": "code",
   "execution_count": 110,
   "metadata": {},
   "outputs": [],
   "source": [
    "csmr_sepsis_gbd['mid_age'] = csmr_sepsis_gbd['age_group'].apply(convert_age_num)\n",
    "csmr_sepsis_gbd['sex'] = csmr_sepsis_gbd['sex'].apply(lambda x: x.split('-')[0].rstrip())\n",
    "#csmr_sepsis_gbd"
   ]
  },
  {
   "cell_type": "code",
   "execution_count": 111,
   "metadata": {},
   "outputs": [],
   "source": [
    "csmr_sepsis_sim['mid_age'] = csmr_sepsis_sim['age_group'].apply(convert_age_num)\n",
    "csmr_sepsis_sim['sex'] = csmr_sepsis_sim['sex'].apply(lambda x: x.split('-')[0].rstrip())\n",
    "#csmr_sepsis_sim"
   ]
  },
  {
   "cell_type": "code",
   "execution_count": 112,
   "metadata": {},
   "outputs": [],
   "source": [
    "csmr_sepsis_scatter = csmr_sepsis_gbd[['sex','csmr','mid_age']].merge(csmr_sepsis_sim[['sex','csmr','mid_age']], on = ['sex','mid_age'])\n",
    "#csmr_sepsis_scatter"
   ]
  },
  {
   "cell_type": "code",
   "execution_count": 113,
   "metadata": {},
   "outputs": [],
   "source": [
    "plt.rcParams[\"figure.figsize\"] = (6,6)"
   ]
  },
  {
   "cell_type": "code",
   "execution_count": 114,
   "metadata": {},
   "outputs": [],
   "source": [
    "import seaborn as sns"
   ]
  },
  {
   "cell_type": "code",
   "execution_count": 115,
   "metadata": {},
   "outputs": [
    {
     "data": {
      "text/plain": [
       "Text(0.5, 1.0, 'CSMR from simulation results vs CSMR from GBD data')"
      ]
     },
     "execution_count": 115,
     "metadata": {},
     "output_type": "execute_result"
    },
    {
     "data": {
      "image/png": "[encoded data removed]",
      "text/plain": [
       "<Figure size 432x432 with 1 Axes>"
      ]
     },
     "metadata": {
      "needs_background": "light"
     },
     "output_type": "display_data"
    }
   ],
   "source": [
    "lims = [-0.01,0.06]\n",
    "ax = sns.scatterplot(x=\"csmr_x\", y=\"csmr_y\", style=\"sex\", hue=\"mid_age\", s= 150, \n",
    "                     palette = sns.color_palette('husl',len(csmr_sepsis_scatter['mid_age'].unique())),\n",
    "                     data=csmr_sepsis_scatter)\n",
    "\n",
    "ax.set_xlim(lims)\n",
    "ax.set_ylim(lims)\n",
    "ax.plot(lims,lims,'--')\n",
    "ax.set_xlabel('Average CSMR from GBD')\n",
    "ax.set_ylabel('Average CSMR from Simulation results')\n",
    "ax.set_title('CSMR from simulation results vs CSMR from GBD data')"
   ]
  }
 ],
 "metadata": {
  "kernelspec": {
   "display_name": "Python 3",
   "language": "python",
   "name": "python3"
  },
  "language_info": {
   "codemirror_mode": {
    "name": "ipython",
    "version": 3
   },
   "file_extension": ".py",
   "mimetype": "text/x-python",
   "name": "python",
   "nbconvert_exporter": "python",
   "pygments_lexer": "ipython3",
   "version": "3.6.9"
  }
 },
 "nbformat": 4,
 "nbformat_minor": 2
}
